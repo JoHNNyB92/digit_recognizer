{
 "cells": [
  {
   "cell_type": "markdown",
   "metadata": {},
   "source": [
    "## Step 1: Prepare Project"
   ]
  },
  {
   "cell_type": "code",
   "execution_count": 1,
   "metadata": {
    "collapsed": true
   },
   "outputs": [],
   "source": [
    "# Pandas for managing datasets\n",
    "import pandas as pd\n",
    "from matplotlib import pyplot as plt\n",
    "%matplotlib inline\n",
    "import numpy as np\n",
    "import operator\n",
    "from numpy import set_printoptions\n",
    "from sklearn.preprocessing import MinMaxScaler\n",
    "from sklearn.preprocessing import StandardScaler\n",
    "from sklearn.preprocessing import Normalizer\n",
    "from sklearn.model_selection import KFold\n",
    "from sklearn.model_selection import cross_val_score\n",
    "from sklearn.linear_model import LogisticRegression\n",
    "from sklearn.discriminant_analysis import LinearDiscriminantAnalysis\n",
    "from sklearn.neighbors import KNeighborsClassifier\n",
    "from sklearn.naive_bayes import GaussianNB\n",
    "from sklearn.tree import DecisionTreeClassifier\n",
    "from sklearn.svm import SVC\n",
    "from sklearn.decomposition import PCA\n",
    "from sklearn.model_selection import GridSearchCV\n",
    "from time import time\n",
    "from sklearn.datasets import load_digits\n",
    "from sklearn.ensemble import RandomForestClassifier\n",
    "from sklearn.model_selection import train_test_split\n",
    "from sklearn.metrics import confusion_matrix\n",
    "from sklearn.metrics import classification_report\n",
    "from sklearn.datasets import fetch_mldata\n",
    "from sklearn.svm import SVC\n",
    "from sklearn.ensemble import VotingClassifier\n",
    "from sklearn.model_selection import cross_val_score\n",
    "from sklearn.ensemble import RandomForestClassifier\n",
    "from sklearn.ensemble import AdaBoostClassifier\n",
    "from sklearn.feature_selection import SelectKBest\n",
    "from sklearn.feature_selection import chi2\n",
    "from sklearn.cluster import AgglomerativeClustering\n",
    "from sklearn.ensemble import ExtraTreesClassifier\n",
    "from collections import Counter"
   ]
  },
  {
   "cell_type": "code",
   "execution_count": 2,
   "metadata": {
    "collapsed": true
   },
   "outputs": [],
   "source": [
    "mnist = fetch_mldata('MNIST original', data_home='.')\n",
    "names=np.array(['pixel'+str(x).zfill(3) for x in range(0,784)])\n",
    "names_dict={'pixel'+str(x).zfill(3):x for x in range(0,784)}"
   ]
  },
  {
   "cell_type": "code",
   "execution_count": 3,
   "metadata": {
    "collapsed": true
   },
   "outputs": [],
   "source": [
    "mnist_pd = pd.DataFrame(mnist.data,columns=names)\n",
    "mnist_pd['label'] = mnist.target\n",
    "mnist_pd['label'] = mnist_pd['label'].apply(lambda i: str(i))"
   ]
  },
  {
   "cell_type": "markdown",
   "metadata": {},
   "source": [
    "## Step 2: Define Problem\n",
    "Our task is to find the best algorithm for classification of mnist dataset.It contains 70000 images that are represented in a 28 * 28 grid.It also contains the labels that represent the actual value of the image.\n"
   ]
  },
  {
   "cell_type": "markdown",
   "metadata": {},
   "source": [
    "\n"
   ]
  },
  {
   "cell_type": "markdown",
   "metadata": {},
   "source": [
    "## Step 3: Exploratory Analysis"
   ]
  },
  {
   "cell_type": "markdown",
   "metadata": {},
   "source": [
    "Below,we find the shape of the mnist dataset.It contains 70000 pictures with an 28 * 28 array that contains the pixels of the image.The target variable is the numerical representation of the image"
   ]
  },
  {
   "cell_type": "code",
   "execution_count": 4,
   "metadata": {},
   "outputs": [
    {
     "name": "stdout",
     "output_type": "stream",
     "text": [
      "Head :\n",
      "   pixel000  pixel001  pixel002  pixel003  pixel004  pixel005  pixel006  \\\n",
      "0         0         0         0         0         0         0         0   \n",
      "1         0         0         0         0         0         0         0   \n",
      "2         0         0         0         0         0         0         0   \n",
      "3         0         0         0         0         0         0         0   \n",
      "4         0         0         0         0         0         0         0   \n",
      "\n",
      "   pixel007  pixel008  pixel009  ...    pixel775  pixel776  pixel777  \\\n",
      "0         0         0         0  ...           0         0         0   \n",
      "1         0         0         0  ...           0         0         0   \n",
      "2         0         0         0  ...           0         0         0   \n",
      "3         0         0         0  ...           0         0         0   \n",
      "4         0         0         0  ...           0         0         0   \n",
      "\n",
      "   pixel778  pixel779  pixel780  pixel781  pixel782  pixel783  label  \n",
      "0         0         0         0         0         0         0    0.0  \n",
      "1         0         0         0         0         0         0    0.0  \n",
      "2         0         0         0         0         0         0    0.0  \n",
      "3         0         0         0         0         0         0    0.0  \n",
      "4         0         0         0         0         0         0    0.0  \n",
      "\n",
      "[5 rows x 785 columns]\n",
      "------------------------------------------------------------------------------------------------\n",
      "Tail :        pixel000  pixel001  pixel002  pixel003  pixel004  pixel005  pixel006  \\\n",
      "69995         0         0         0         0         0         0         0   \n",
      "69996         0         0         0         0         0         0         0   \n",
      "69997         0         0         0         0         0         0         0   \n",
      "69998         0         0         0         0         0         0         0   \n",
      "69999         0         0         0         0         0         0         0   \n",
      "\n",
      "       pixel007  pixel008  pixel009  ...    pixel775  pixel776  pixel777  \\\n",
      "69995         0         0         0  ...           0         0         0   \n",
      "69996         0         0         0  ...           0         0         0   \n",
      "69997         0         0         0  ...           0         0         0   \n",
      "69998         0         0         0  ...           0         0         0   \n",
      "69999         0         0         0  ...           0         0         0   \n",
      "\n",
      "       pixel778  pixel779  pixel780  pixel781  pixel782  pixel783  label  \n",
      "69995         0         0         0         0         0         0    9.0  \n",
      "69996         0         0         0         0         0         0    9.0  \n",
      "69997         0         0         0         0         0         0    9.0  \n",
      "69998         0         0         0         0         0         0    9.0  \n",
      "69999         0         0         0         0         0         0    9.0  \n",
      "\n",
      "[5 rows x 785 columns]\n"
     ]
    }
   ],
   "source": [
    "print \"Head :\\n\", mnist_pd.head()\n",
    "print \"------------------------------------------------------------------------------------------------\"\n",
    "print \"Tail :\", mnist_pd.tail()"
   ]
  },
  {
   "cell_type": "code",
   "execution_count": 5,
   "metadata": {},
   "outputs": [
    {
     "name": "stdout",
     "output_type": "stream",
     "text": [
      "Number of data points: 70000\n",
      "Number of labels: 784\n"
     ]
    }
   ],
   "source": [
    "(data_count,label_count) = mnist.data.shape\n",
    "print \"Number of data points:\",data_count\n",
    "print \"Number of labels:\",label_count"
   ]
  },
  {
   "cell_type": "markdown",
   "metadata": {},
   "source": [
    "Below we check if the dataset contains any null values,the value type of the pixels and the available classes.NULL values can have a negative effect on our classifier.The classes represent the numbers (0-9) that the image shows. "
   ]
  },
  {
   "cell_type": "code",
   "execution_count": 6,
   "metadata": {},
   "outputs": [
    {
     "name": "stdout",
     "output_type": "stream",
     "text": [
      "Are there any null values?  False\n",
      "Type of the columns: set([dtype('O'), dtype('uint8')])\n",
      "Classes to classify the data:  set([0.0, 1.0, 2.0, 3.0, 4.0, 5.0, 6.0, 7.0, 8.0, 9.0])\n"
     ]
    }
   ],
   "source": [
    "print 'Are there any null values? ',mnist_pd.isnull().values.any()\n",
    "print \"Type of the columns:\",set(mnist_pd.dtypes)\n",
    "print \"Classes to classify the data: \",set(mnist.target)"
   ]
  },
  {
   "cell_type": "markdown",
   "metadata": {},
   "source": [
    "As a pre-processing step either for further processing or visualisation we decompose raw data into their principal components using Principal Component Analysis (PCA). This allows us to reduce the dimensionality of the data while retaining as much of their original variance as possible.I am going to use the PCA in order to represent the points in a scatter plot."
   ]
  },
  {
   "cell_type": "code",
   "execution_count": 7,
   "metadata": {},
   "outputs": [
    {
     "name": "stdout",
     "output_type": "stream",
     "text": [
      "PCA reduced dimension: (70000, 2)\n",
      "Actual data dimension: (70000, 784)\n"
     ]
    }
   ],
   "source": [
    "pca = PCA(n_components=2)\n",
    "data2d=pca.fit_transform(mnist.data)\n",
    "#print\"Variance data2dNoScale:\" ,(pca.explained_variance_)\n",
    "print \"PCA reduced dimension:\",data2d.shape\n",
    "print \"Actual data dimension:\",mnist.data.shape"
   ]
  },
  {
   "cell_type": "code",
   "execution_count": 8,
   "metadata": {},
   "outputs": [
    {
     "data": {
      "image/png": "[encoded data removed]",
      "text/plain": [
       "<matplotlib.figure.Figure at 0x7f6a99ca0e10>"
      ]
     },
     "metadata": {},
     "output_type": "display_data"
    }
   ],
   "source": [
    "plt.scatter(data2d[:, 0], data2d[:, 1],c=mnist.target, edgecolor='none', alpha=0.2,cmap=plt.cm.get_cmap('nipy_spectral', 10))\n",
    "plt.xlabel('1st dimension')\n",
    "plt.ylabel('2nd dimension')\n",
    "plt.colorbar()\n",
    "plt.tight_layout()\n",
    "plt.show()"
   ]
  },
  {
   "cell_type": "markdown",
   "metadata": {},
   "source": [
    "### describe() returns 8 statistical properties for each attribute\n",
    "\n",
    "    Count: how many values the attribute has\n",
    "    Mean: the mean of all values of the attribute\n",
    "    Standard Deviation: the amount of variation values have. Low $\\sigma$ means values are closer to the mean\n",
    "    Minimum value\n",
    "    25th Percentile: the value under which 25% of the instances can be found\n",
    "    50th Percentile: the value under which 50% of the instances can be found (also called the median, is the value that splits the distribution in half)\n",
    "    75th Percentile: the value under which 75% of the instances can be found\n",
    "    Maximum value"
   ]
  },
  {
   "cell_type": "code",
   "execution_count": 9,
   "metadata": {},
   "outputs": [
    {
     "name": "stdout",
     "output_type": "stream",
     "text": [
      "       pixel000  pixel001  pixel002  pixel003  pixel004  pixel005  pixel006  \\\n",
      "count   70000.0   70000.0   70000.0   70000.0   70000.0   70000.0   70000.0   \n",
      "mean        0.0       0.0       0.0       0.0       0.0       0.0       0.0   \n",
      "std         0.0       0.0       0.0       0.0       0.0       0.0       0.0   \n",
      "min         0.0       0.0       0.0       0.0       0.0       0.0       0.0   \n",
      "25%         0.0       0.0       0.0       0.0       0.0       0.0       0.0   \n",
      "50%         0.0       0.0       0.0       0.0       0.0       0.0       0.0   \n",
      "75%         0.0       0.0       0.0       0.0       0.0       0.0       0.0   \n",
      "max         0.0       0.0       0.0       0.0       0.0       0.0       0.0   \n",
      "\n",
      "       pixel007  pixel008  pixel009    ...         pixel774      pixel775  \\\n",
      "count   70000.0   70000.0   70000.0    ...     70000.000000  70000.000000   \n",
      "mean        0.0       0.0       0.0    ...         0.197414      0.099543   \n",
      "std         0.0       0.0       0.0    ...         5.991206      4.256304   \n",
      "min         0.0       0.0       0.0    ...         0.000000      0.000000   \n",
      "25%         0.0       0.0       0.0    ...         0.000000      0.000000   \n",
      "50%         0.0       0.0       0.0    ...         0.000000      0.000000   \n",
      "75%         0.0       0.0       0.0    ...         0.000000      0.000000   \n",
      "max         0.0       0.0       0.0    ...       254.000000    254.000000   \n",
      "\n",
      "           pixel776      pixel777      pixel778      pixel779  pixel780  \\\n",
      "count  70000.000000  70000.000000  70000.000000  70000.000000   70000.0   \n",
      "mean       0.046629      0.016614      0.012957      0.001714       0.0   \n",
      "std        2.783732      1.561822      1.553796      0.320889       0.0   \n",
      "min        0.000000      0.000000      0.000000      0.000000       0.0   \n",
      "25%        0.000000      0.000000      0.000000      0.000000       0.0   \n",
      "50%        0.000000      0.000000      0.000000      0.000000       0.0   \n",
      "75%        0.000000      0.000000      0.000000      0.000000       0.0   \n",
      "max      253.000000    253.000000    254.000000     62.000000       0.0   \n",
      "\n",
      "       pixel781  pixel782  pixel783  \n",
      "count   70000.0   70000.0   70000.0  \n",
      "mean        0.0       0.0       0.0  \n",
      "std         0.0       0.0       0.0  \n",
      "min         0.0       0.0       0.0  \n",
      "25%         0.0       0.0       0.0  \n",
      "50%         0.0       0.0       0.0  \n",
      "75%         0.0       0.0       0.0  \n",
      "max         0.0       0.0       0.0  \n",
      "\n",
      "[8 rows x 784 columns]\n"
     ]
    }
   ],
   "source": [
    "print (mnist_pd.describe())"
   ]
  },
  {
   "cell_type": "markdown",
   "metadata": {},
   "source": [
    "In order to summarise distribution of instances across classes on classification problems you need to know how the data are distributed among the classes.Highly imbalanced problems (a lot more observations for one class than another) are common and they need a different approach as far as data preparation is concerned.As we can see the data are equally distributed among the classes. \n",
    "\n"
   ]
  },
  {
   "cell_type": "code",
   "execution_count": 10,
   "metadata": {},
   "outputs": [
    {
     "name": "stdout",
     "output_type": "stream",
     "text": [
      "label\n",
      "0.0    6903\n",
      "1.0    7877\n",
      "2.0    6990\n",
      "3.0    7141\n",
      "4.0    6824\n",
      "5.0    6313\n",
      "6.0    6876\n",
      "7.0    7293\n",
      "8.0    6825\n",
      "9.0    6958\n",
      "dtype: int64\n"
     ]
    }
   ],
   "source": [
    "print(mnist_pd.groupby('label').size())"
   ]
  },
  {
   "cell_type": "markdown",
   "metadata": {},
   "source": [
    "### Histogram\n",
    "To visualize that the data are equally distributed among the classes:"
   ]
  },
  {
   "cell_type": "code",
   "execution_count": 11,
   "metadata": {},
   "outputs": [
    {
     "data": {
      "image/png": "[encoded data removed]",
      "text/plain": [
       "<matplotlib.figure.Figure at 0x7f6a9517ce10>"
      ]
     },
     "metadata": {},
     "output_type": "display_data"
    }
   ],
   "source": [
    "plt.hist(mnist.target)\n",
    "plt.show()\n"
   ]
  },
  {
   "cell_type": "markdown",
   "metadata": {},
   "source": [
    "### Box Plot\n"
   ]
  },
  {
   "attachments": {
    "image.png": {
     "image/png": "[encoded data removed]"
    }
   },
   "cell_type": "markdown",
   "metadata": {},
   "source": [
    "Box plot can be summarised to the following:\n",
    "![image.png](attachment:image.png)"
   ]
  },
  {
   "cell_type": "code",
   "execution_count": 12,
   "metadata": {},
   "outputs": [
    {
     "data": {
      "image/png": "[encoded data removed]",
      "text/plain": [
       "<matplotlib.figure.Figure at 0x7f6a951ce2d0>"
      ]
     },
     "metadata": {},
     "output_type": "display_data"
    }
   ],
   "source": [
    "plt.boxplot(mnist.target)\n",
    "plt.show()"
   ]
  },
  {
   "cell_type": "markdown",
   "metadata": {},
   "source": [
    "## Step 4: Prepare Data"
   ]
  },
  {
   "cell_type": "markdown",
   "metadata": {},
   "source": [
    "### Rescale Data\n",
    "Rescaling data is multiplying each member of a data set by a constant.The rescaled data have a value between 0 and 1.Rescaling will change the spread of your data as well as the position of your data points. What remains unchanged is the shape of distribution and the relative attributes of our curve. "
   ]
  },
  {
   "cell_type": "code",
   "execution_count": 13,
   "metadata": {},
   "outputs": [
    {
     "name": "stderr",
     "output_type": "stream",
     "text": [
      "/home/mscuser/anaconda2/lib/python2.7/site-packages/sklearn/utils/validation.py:475: DataConversionWarning: Data with input dtype uint8 was converted to float64 by MinMaxScaler.\n",
      "  warnings.warn(msg, DataConversionWarning)\n"
     ]
    },
    {
     "name": "stdout",
     "output_type": "stream",
     "text": [
      "[[ 0.  0.  0. ...,  0.  0.  0.]\n",
      " [ 0.  0.  0. ...,  0.  0.  0.]\n",
      " [ 0.  0.  0. ...,  0.  0.  0.]\n",
      " [ 0.  0.  0. ...,  0.  0.  0.]\n",
      " [ 0.  0.  0. ...,  0.  0.  0.]]\n"
     ]
    }
   ],
   "source": [
    "scaler = MinMaxScaler(feature_range=(0, 1))\n",
    "mnist.data = scaler.fit_transform(mnist.data)\n",
    "set_printoptions(precision=3)\n",
    "print(mnist.data[0:5,:])"
   ]
  },
  {
   "cell_type": "markdown",
   "metadata": {},
   "source": [
    "### Standardise Data\n",
    "A standardized value is what you get when you take a data point and scale it by population data."
   ]
  },
  {
   "cell_type": "code",
   "execution_count": 14,
   "metadata": {},
   "outputs": [
    {
     "name": "stdout",
     "output_type": "stream",
     "text": [
      "[[ 0.  0.  0. ...,  0.  0.  0.]\n",
      " [ 0.  0.  0. ...,  0.  0.  0.]\n",
      " [ 0.  0.  0. ...,  0.  0.  0.]\n",
      " [ 0.  0.  0. ...,  0.  0.  0.]\n",
      " [ 0.  0.  0. ...,  0.  0.  0.]]\n",
      "Scaled data mean is: 5.55118199545e-14\n",
      "Scaled data variance is: 0.917091836735\n"
     ]
    }
   ],
   "source": [
    "scaler = StandardScaler().fit(mnist.data)\n",
    "mnist.data = scaler.transform(mnist.data)\n",
    "# summarise transformed data\n",
    "set_printoptions(precision=3)\n",
    "print(mnist.data[0:5,:])\n",
    "\n",
    "print 'Scaled data mean is:',np.mean(mnist.data)\n",
    "print 'Scaled data variance is:',np.var(mnist.data)"
   ]
  },
  {
   "cell_type": "markdown",
   "metadata": {},
   "source": [
    "### Normalise Data"
   ]
  },
  {
   "cell_type": "code",
   "execution_count": 15,
   "metadata": {},
   "outputs": [
    {
     "name": "stdout",
     "output_type": "stream",
     "text": [
      "[[ 0.  0.  0. ...,  0.  0.  0.]\n",
      " [ 0.  0.  0. ...,  0.  0.  0.]\n",
      " [ 0.  0.  0. ...,  0.  0.  0.]\n",
      " [ 0.  0.  0. ...,  0.  0.  0.]\n",
      " [ 0.  0.  0. ...,  0.  0.  0.]]\n"
     ]
    }
   ],
   "source": [
    "scaler = Normalizer().fit(mnist.data)\n",
    "mnist.data= Normalizer().transform(mnist.data)\n",
    "print(mnist.data[0:5,:])"
   ]
  },
  {
   "cell_type": "markdown",
   "metadata": {},
   "source": [
    "## Step 5: Feature Engineering"
   ]
  },
  {
   "cell_type": "markdown",
   "metadata": {
    "collapsed": true
   },
   "source": [
    "A feature is an attribute or property shared by all of the independent units on which analysis or prediction is to be done. Any attribute could be a feature, as long as it is useful to the model. The purpose of a feature, other than being an attribute, would be much easier to understand in the context of a problem. A feature is a characteristic that might help when solving the problem. The features in our data are important to the predictive models you use and will influence the results we are going to achieve. The quality and quantity of the features will have great influence on whether the model is good or not.You could say the better the features are, the better the result is. This isn't entirely true, because the results achieved also depend on the model and the data, not just the chosen features. That said, choosing the right features is still very important. Better features can produce simpler and more flexible models, and they often yield better results"
   ]
  },
  {
   "cell_type": "markdown",
   "metadata": {},
   "source": [
    "## Feature Selection and Feature reduction\n",
    "For feature selection I chose to remove the features that have zero correlation with the target variable or those that their variance is low.\n",
    "For feature reduction I chose to perform pca analysis keeping 10 of the reduced features.For more dimensions the algorithms needed exceptional amount of time."
   ]
  },
  {
   "cell_type": "code",
   "execution_count": 16,
   "metadata": {
    "collapsed": true
   },
   "outputs": [],
   "source": [
    "delIndices=[]\n",
    "X=mnist.data\n",
    "Y=mnist.target\n",
    "col_names=names\n",
    "col_dict=dict(names_dict)\n",
    "\n",
    "for i in range(0,(X.shape[1])):\n",
    "    if np.correlate(X[:,i],Y[:])[0]==0 or np.var(X[:,i])<10**(-4):\n",
    "        delIndices.append(i)\n",
    "counter=0\n",
    "for x in delIndices:\n",
    "    X=np.delete(X,np.s_[x-counter],1)\n",
    "    del col_dict[col_names[x-counter]]\n",
    "    col_names=np.delete(col_names,x-counter)\n",
    "    col_dict.update((k, v-1) for k,v in col_dict.items() if v>x-counter)\n",
    "    counter+=1"
   ]
  },
  {
   "cell_type": "code",
   "execution_count": 19,
   "metadata": {},
   "outputs": [
    {
     "name": "stdout",
     "output_type": "stream",
     "text": [
      "0.0016\n",
      "Removed features with names: ['pixel389', 'pixel145', 'pixel147', 'pixel141', 'pixel229', 'pixel143', 'pixel142', 'pixel224', 'pixel225', 'pixel226', 'pixel227', 'pixel220', 'pixel221', 'pixel222', 'pixel223', 'pixel688', 'pixel709', 'pixel708', 'pixel707', 'pixel706', 'pixel705', 'pixel704', 'pixel703', 'pixel702', 'pixel701', 'pixel700', 'pixel039', 'pixel038', 'pixel031', 'pixel030', 'pixel033', 'pixel032', 'pixel035', 'pixel034', 'pixel037', 'pixel036', 'pixel130', 'pixel131', 'pixel132', 'pixel133', 'pixel134', 'pixel135', 'pixel137', 'pixel138', 'pixel139', 'pixel684', 'pixel685', 'pixel682', 'pixel529', 'pixel528', 'pixel044', 'pixel042', 'pixel014', 'pixel452', 'pixel451', 'pixel450', 'pixel455', 'pixel123', 'pixel144', 'pixel122', 'pixel121', 'pixel692', 'pixel127', 'pixel694', 'pixel125', 'pixel696', 'pixel282', 'pixel283', 'pixel129', 'pixel128', 'pixel776', 'pixel777', 'pixel774', 'pixel775', 'pixel772', 'pixel773', 'pixel770', 'pixel771', 'pixel079', 'pixel778', 'pixel171', 'pixel548', 'pixel504', 'pixel075', 'pixel074', 'pixel077', 'pixel076', 'pixel071', 'pixel070', 'pixel073', 'pixel072', 'pixel174', 'pixel175', 'pixel176', 'pixel177', 'pixel170', 'pixel078', 'pixel172', 'pixel173', 'pixel146', 'pixel277', 'pixel276', 'pixel275', 'pixel274', 'pixel228', 'pixel279', 'pixel278', 'pixel140', 'pixel635', 'pixel634', 'pixel679', 'pixel678', 'pixel677', 'pixel676', 'pixel675', 'pixel674', 'pixel673', 'pixel639', 'pixel671', 'pixel670', 'pixel390', 'pixel391', 'pixel392', 'pixel393', 'pixel394', 'pixel395', 'pixel396', 'pixel397', 'pixel398', 'pixel149', 'pixel148', 'pixel000', 'pixel001', 'pixel002', 'pixel005', 'pixel006', 'pixel008', 'pixel009', 'pixel554', 'pixel555', 'pixel552', 'pixel553', 'pixel418', 'pixel480', 'pixel481', 'pixel482', 'pixel743', 'pixel742', 'pixel217', 'pixel309', 'pixel308', 'pixel303', 'pixel302', 'pixel307', 'pixel306', 'pixel305', 'pixel746', 'pixel099', 'pixel098', 'pixel745', 'pixel093', 'pixel092', 'pixel091', 'pixel090', 'pixel097', 'pixel096', 'pixel095', 'pixel094', 'pixel672', 'pixel388', 'pixel606', 'pixel607', 'pixel604', 'pixel605', 'pixel341', 'pixel600', 'pixel601', 'pixel329', 'pixel469', 'pixel233', 'pixel608', 'pixel230', 'pixel732', 'pixel733', 'pixel730', 'pixel731', 'pixel736', 'pixel737', 'pixel734', 'pixel735', 'pixel738', 'pixel739', 'pixel188', 'pixel049', 'pixel512', 'pixel045', 'pixel046', 'pixel047', 'pixel040', 'pixel041', 'pixel691', 'pixel690', 'pixel288', 'pixel120', 'pixel695', 'pixel697', 'pixel699', 'pixel698', 'pixel280', 'pixel281', 'pixel286', 'pixel287', 'pixel284', 'pixel285', 'pixel417', 'pixel416', 'pixel415', 'pixel003', 'pixel004', 'pixel412', 'pixel411', 'pixel559', 'pixel556', 'pixel343', 'pixel342', 'pixel468', 'pixel340', 'pixel466', 'pixel467', 'pixel198', 'pixel199', 'pixel196', 'pixel197', 'pixel194', 'pixel195', 'pixel192', 'pixel193', 'pixel419', 'pixel551', 'pixel007', 'pixel527', 'pixel526', 'pixel525', 'pixel524', 'pixel522', 'pixel109', 'pixel136', 'pixel108', 'pixel689', 'pixel686', 'pixel633', 'pixel687', 'pixel680', 'pixel681', 'pixel068', 'pixel069', 'pixel169', 'pixel168', 'pixel167', 'pixel166', 'pixel165', 'pixel164', 'pixel163', 'pixel162', 'pixel161', 'pixel160', 'pixel247', 'pixel258', 'pixel248', 'pixel249', 'pixel650', 'pixel642', 'pixel643', 'pixel640', 'pixel641', 'pixel646', 'pixel647', 'pixel644', 'pixel645', 'pixel761', 'pixel760', 'pixel763', 'pixel649', 'pixel765', 'pixel764', 'pixel767', 'pixel766', 'pixel383', 'pixel259', 'pixel387', 'pixel384', 'pixel422', 'pixel423', 'pixel420', 'pixel421', 'pixel426', 'pixel424', 'pixel425', 'pixel013', 'pixel012', 'pixel011', 'pixel010', 'pixel017', 'pixel016', 'pixel015', 'pixel549', 'pixel019', 'pixel018', 'pixel251', 'pixel499', 'pixel498', 'pixel497', 'pixel496', 'pixel493', 'pixel492', 'pixel252', 'pixel338', 'pixel339', 'pixel336', 'pixel337', 'pixel334', 'pixel335', 'pixel332', 'pixel333', 'pixel331', 'pixel621', 'pixel202', 'pixel203', 'pixel200', 'pixel201', 'pixel206', 'pixel207', 'pixel204', 'pixel205', 'pixel581', 'pixel304', 'pixel580', 'pixel750', 'pixel751', 'pixel752', 'pixel753', 'pixel754', 'pixel755', 'pixel756', 'pixel757', 'pixel758', 'pixel759', 'pixel253', 'pixel589', 'pixel356', 'pixel588', 'pixel725', 'pixel724', 'pixel727', 'pixel726', 'pixel721', 'pixel720', 'pixel723', 'pixel722', 'pixel729', 'pixel728', 'pixel631', 'pixel508', 'pixel059', 'pixel058', 'pixel057', 'pixel056', 'pixel055', 'pixel054', 'pixel501', 'pixel500', 'pixel503', 'pixel050', 'pixel116', 'pixel117', 'pixel114', 'pixel115', 'pixel112', 'pixel113', 'pixel110', 'pixel111', 'pixel118', 'pixel119', 'pixel592', 'pixel593', 'pixel590', 'pixel591', 'pixel594', 'pixel595', 'pixel611', 'pixel610', 'pixel613', 'pixel612', 'pixel615', 'pixel614', 'pixel617', 'pixel616', 'pixel637', 'pixel371', 'pixel578', 'pixel473', 'pixel472', 'pixel475', 'pixel474', 'pixel477', 'pixel476', 'pixel479', 'pixel478', 'pixel636', 'pixel187', 'pixel186', 'pixel710', 'pixel711', 'pixel693', 'pixel651', 'pixel623', 'pixel762', 'pixel053', 'pixel026', 'pixel027', 'pixel024', 'pixel025', 'pixel052', 'pixel022', 'pixel531', 'pixel620', 'pixel622', 'pixel157', 'pixel250', 'pixel628', 'pixel629', 'pixel021', 'pixel255', 'pixel254', 'pixel257', 'pixel256', 'pixel638', 'pixel783', 'pixel782', 'pixel781', 'pixel780', 'pixel509', 'pixel023', 'pixel505', 'pixel718', 'pixel719', 'pixel653', 'pixel652', 'pixel714', 'pixel715', 'pixel716', 'pixel717', 'pixel507', 'pixel712', 'pixel713', 'pixel506', 'pixel439', 'pixel020', 'pixel534', 'pixel535', 'pixel536', 'pixel537', 'pixel530', 'pixel051', 'pixel532', 'pixel533', 'pixel740', 'pixel502', 'pixel538', 'pixel539', 'pixel028', 'pixel029', 'pixel747', 'pixel448', 'pixel449', 'pixel440', 'pixel441', 'pixel442', 'pixel443', 'pixel444', 'pixel445', 'pixel446', 'pixel447', 'pixel744', 'pixel741', 'pixel748', 'pixel219', 'pixel218', 'pixel043', 'pixel603', 'pixel619', 'pixel313', 'pixel618', 'pixel558', 'pixel315', 'pixel062', 'pixel063', 'pixel060', 'pixel061', 'pixel066', 'pixel067', 'pixel064', 'pixel065', 'pixel100', 'pixel103', 'pixel102', 'pixel105', 'pixel104', 'pixel107', 'pixel106', 'pixel261', 'pixel262', 'pixel609', 'pixel585', 'pixel584', 'pixel587', 'pixel586', 'pixel668', 'pixel669', 'pixel583', 'pixel582', 'pixel664', 'pixel665', 'pixel666', 'pixel667', 'pixel660', 'pixel661', 'pixel662', 'pixel663', 'pixel557', 'pixel369', 'pixel368', 'pixel365', 'pixel364', 'pixel367', 'pixel366', 'pixel361', 'pixel360', 'pixel363', 'pixel362', 'pixel563', 'pixel562', 'pixel561', 'pixel560', 'pixel565', 'pixel564', 'pixel769', 'pixel768', 'pixel310', 'pixel311', 'pixel312', 'pixel779', 'pixel314', 'pixel648', 'pixel088', 'pixel471', 'pixel089', 'pixel470', 'pixel080', 'pixel081', 'pixel082', 'pixel083', 'pixel084', 'pixel085', 'pixel086', 'pixel087', 'pixel520']\n"
     ]
    }
   ],
   "source": [
    "model = ExtraTreesClassifier()\n",
    "XET=X\n",
    "YET=Y\n",
    "col_names_=col_names\n",
    "col_dict_=dict(col_dict)\n",
    "model.fit(XET, YET)\n",
    "zipped=zip(col_names_, model.feature_importances_)\n",
    "zipped=sorted(zipped,key = lambda t: t[0])\n",
    "mean_values=np.array([y for x,y in zipped])\n",
    "mean_value=mean_values.mean()\n",
    "print mean_value\n",
    "counter=0\n",
    "for x,y in zipped:\n",
    "    if y<mean_value:\n",
    "        pos=col_dict_[x]\n",
    "        XET=np.delete(XET,np.s_[pos],1)\n",
    "        del col_dict_[x]\n",
    "        col_names_=np.delete(col_names_,pos)\n",
    "        col_dict_.update((k, v-1) for k,v in col_dict_.items() if v>pos)\n",
    "print 'Removed features with names:',list(set(names).symmetric_difference(col_names_))\n",
    "GUWOP=XET"
   ]
  },
  {
   "cell_type": "code",
   "execution_count": 20,
   "metadata": {},
   "outputs": [
    {
     "name": "stdout",
     "output_type": "stream",
     "text": [
      "Shape after (70000, 10)\n"
     ]
    }
   ],
   "source": [
    "XET=GUWOP\n",
    "pca = PCA(n_components=10)\n",
    "XET= pca.fit_transform(XET)\n",
    "print 'Shape after',XET.shape"
   ]
  },
  {
   "cell_type": "markdown",
   "metadata": {},
   "source": [
    "## Step 6: Algorithm Selection\n",
    "Below we execute a number of algorithms and print their mean estimated accuracy."
   ]
  },
  {
   "cell_type": "markdown",
   "metadata": {},
   "source": [
    "### Algorithm Selection/Algorithm Comparison\n",
    "K-Folds cross-validator.\n",
    "Provides train/test indices to split data in train/test sets. Split dataset into k consecutive folds (without shuffling by default)."
   ]
  },
  {
   "cell_type": "code",
   "execution_count": 21,
   "metadata": {
    "collapsed": true
   },
   "outputs": [],
   "source": [
    "models={}\n",
    "ensembles={}\n",
    "xTr, xTe, yTr, yTe = train_test_split(XET, YET, test_size=0.2)\n",
    "kfold = KFold(n_splits=10, random_state=7)\n",
    "mean_scores={}\n",
    "scores={}\n",
    "algos={}"
   ]
  },
  {
   "cell_type": "markdown",
   "metadata": {},
   "source": [
    "We are going to compare a set of algorithms:\n",
    "\n",
    "    Logistic Regression\n",
    "    Linear Discriminant Analysis\n",
    "    k-Nearest Neighbors\n",
    "    Decision Trees\n",
    "    Naive Bayes"
   ]
  },
  {
   "cell_type": "code",
   "execution_count": 22,
   "metadata": {
    "collapsed": true
   },
   "outputs": [],
   "source": [
    "# Create a list, with one item per algorithm. Each item has a name, and a classifier object.\n",
    "models1 = {}\n",
    "models1['LRS']=LogisticRegression()\n",
    "models1[\"LDAS\"]=LinearDiscriminantAnalysis()\n",
    "models1[\"kNNS\"]=KNeighborsClassifier()\n",
    "models1[\"DTS\"]=DecisionTreeClassifier()\n",
    "models1[\"NBS\"]=GaussianNB()"
   ]
  },
  {
   "cell_type": "markdown",
   "metadata": {},
   "source": [
    "The scoring function to use:"
   ]
  },
  {
   "cell_type": "code",
   "execution_count": 23,
   "metadata": {
    "collapsed": true
   },
   "outputs": [],
   "source": [
    "scoring = 'accuracy'"
   ]
  },
  {
   "cell_type": "markdown",
   "metadata": {},
   "source": [
    "We are going to evaluate all classifiers using kfold and scoring accuracy and store results in two lists:"
   ]
  },
  {
   "cell_type": "code",
   "execution_count": 24,
   "metadata": {},
   "outputs": [
    {
     "name": "stdout",
     "output_type": "stream",
     "text": [
      "       DTS: 0.810518 (+/- 0.008619)\n",
      "       NBS: 0.787893 (+/- 0.005661)\n",
      "       LRS: 0.779125 (+/- 0.006242)\n"
     ]
    },
    {
     "name": "stderr",
     "output_type": "stream",
     "text": [
      "/home/mscuser/anaconda2/lib/python2.7/site-packages/sklearn/discriminant_analysis.py:442: UserWarning: The priors do not sum to 1. Renormalizing\n",
      "  UserWarning)\n"
     ]
    },
    {
     "name": "stdout",
     "output_type": "stream",
     "text": [
      "      LDAS: 0.777143 (+/- 0.004040)\n",
      "      kNNS: 0.921518 (+/- 0.002784)\n"
     ]
    }
   ],
   "source": [
    "results = []\n",
    "kfold = KFold(n_splits=10, random_state=7)\n",
    "for ind, name in enumerate(models1):\n",
    "  cv_results = cross_val_score(models1[name], xTr, yTr, cv=kfold, scoring=scoring)\n",
    "  scores[name]=cv_results\n",
    "  mean_scores[name]=cv_results.mean()\n",
    "  print(\"%010s: %f (+/- %f)\" % (name, cv_results.mean(), cv_results.std()))\n",
    "models=models1\n",
    "algos=models1"
   ]
  },
  {
   "cell_type": "markdown",
   "metadata": {},
   "source": [
    "## Step 7: Model Training\n",
    "Apply ensembles and improve performance by hyperparameter optimisation."
   ]
  },
  {
   "cell_type": "markdown",
   "metadata": {},
   "source": [
    "### Python scikit-learn provides a simple method for algorithm parameter tuning:\n",
    "Grid Search\n"
   ]
  },
  {
   "cell_type": "markdown",
   "metadata": {},
   "source": [
    "### Decision Tree Classifier with parameter tuning\n",
    "<h4>max_features</h4>\n",
    "The function to measure the quality of a split. Supported criteria are “gini” for the Gini impurity and “entropy” for the information gain.\n",
    "<h4>splitter</h4>\n",
    "The strategy used to choose the split at each node. Supported strategies are “best” to choose the best split and “random” to choose the best random split.\n",
    "<h4>max_depth</h4>\n",
    "The maximum depth of the tree\n"
   ]
  },
  {
   "cell_type": "code",
   "execution_count": 25,
   "metadata": {
    "collapsed": true
   },
   "outputs": [],
   "source": [
    "parameters = {'criterion': ['gini','entropy'],\n",
    "          'splitter': ['best','random'], \n",
    "          'max_depth':[x for x in range(1,15)]}"
   ]
  },
  {
   "cell_type": "markdown",
   "metadata": {},
   "source": [
    "Create and fit a decision tree classifier model, testing each parameter:"
   ]
  },
  {
   "cell_type": "code",
   "execution_count": 26,
   "metadata": {},
   "outputs": [
    {
     "name": "stdout",
     "output_type": "stream",
     "text": [
      "('Best Hyper Parameters:', {'splitter': 'best', 'criterion': 'entropy', 'max_depth': 14})\n",
      "[ 0.818  0.822  0.825  0.821  0.821  0.827  0.827  0.822  0.815  0.829]\n",
      "0.822589285714\n"
     ]
    }
   ],
   "source": [
    "model=DecisionTreeClassifier()\n",
    "models[\"DT\"] = GridSearchCV(model, param_grid=parameters)\n",
    "#Learning\n",
    "models[\"DT\"].fit(xTr,yTr)\n",
    "print(\"Best Hyper Parameters:\",models[\"DT\"].best_params_)\n",
    "algos[\"DT\"] = DecisionTreeClassifier(criterion=models[\"DT\"].best_params_[\"criterion\"],\n",
    "                             splitter=models[\"DT\"].best_params_[\"splitter\"],\n",
    "                                     max_depth=models[\"DT\"].best_params_[\"max_depth\"])\n",
    "ensembles['DT']=algos[\"DT\"]\n",
    "scores[\"DT\"] = cross_val_score(algos[\"DT\"], xTr, yTr, cv=kfold, scoring=scoring)\n",
    "mean_scores[\"DT\"]=scores[\"DT\"].mean()\n",
    "print scores[\"DT\"]\n",
    "print mean_scores[\"DT\"]\n"
   ]
  },
  {
   "cell_type": "markdown",
   "metadata": {},
   "source": [
    "### Logistic Regression with parameter tuning\n",
    "<h4>solver_options</h4>\n",
    "default: ‘liblinear’ Algorithm to use in the optimization problem.\n",
    "    For small datasets, ‘liblinear’ is a good choice, whereas ‘sag’ and\n",
    "        ‘saga’ are faster for large ones.\n",
    "    For multiclass problems, only ‘newton-cg’, ‘sag’, ‘saga’ and ‘lbfgs’\n",
    "        handle multinomial loss; ‘liblinear’ is limited to one-versus-rest schemes.\n",
    "    ‘newton-cg’, ‘lbfgs’ and ‘sag’ only handle L2 penalty, whereas\n",
    "        ‘liblinear’ and ‘saga’ handle L1 penalty.\n",
    "<h4>multi_class_options</h4>\n",
    "Multiclass option can be either ‘ovr’ or ‘multinomial’. If the option chosen is ‘ovr’, then a binary problem is fit for each label. Else the loss minimised is the multinomial loss fit across the entire probability distribution\n",
    "<h4>class_weight_options</h4>\n",
    "Weights associated with classes in the form {class_label: weight}. If not given, all classes are supposed to have weight one.\n"
   ]
  },
  {
   "cell_type": "code",
   "execution_count": 27,
   "metadata": {
    "collapsed": true
   },
   "outputs": [],
   "source": [
    "solver_options = ['newton-cg', 'lbfgs', 'liblinear', 'sag']\n",
    "multi_class_options = ['ovr']\n",
    "class_weight_options = [None,'balanced']\n",
    "\n",
    "parameters = dict(solver = solver_options, multi_class = \n",
    "multi_class_options, class_weight = class_weight_options)"
   ]
  },
  {
   "cell_type": "code",
   "execution_count": 28,
   "metadata": {},
   "outputs": [
    {
     "name": "stderr",
     "output_type": "stream",
     "text": [
      "/home/mscuser/anaconda2/lib/python2.7/site-packages/sklearn/linear_model/sag.py:326: ConvergenceWarning: The max_iter was reached which means the coef_ did not converge\n",
      "  \"the coef_ did not converge\", ConvergenceWarning)\n"
     ]
    },
    {
     "name": "stdout",
     "output_type": "stream",
     "text": [
      "('Best Hyper Parameters:', {'multi_class': 'ovr', 'solver': 'lbfgs', 'class_weight': 'balanced'})\n",
      "[ 0.77   0.782  0.777  0.784  0.786  0.78   0.787  0.784  0.771  0.781]\n",
      "0.780035714286\n"
     ]
    }
   ],
   "source": [
    "model=LogisticRegression()\n",
    "models[\"LR\"] = GridSearchCV(model, param_grid=parameters)\n",
    "#Learning\n",
    "models[\"LR\"].fit(xTr,yTr)\n",
    "print(\"Best Hyper Parameters:\",models[\"LR\"].best_params_)\n",
    "algos[\"LR\"] = LogisticRegression(solver=models[\"LR\"].best_params_[\"solver\"],\n",
    "                             multi_class=models[\"LR\"].best_params_[\"multi_class\"],\n",
    "                             class_weight=models[\"LR\"].best_params_[\"class_weight\"])\n",
    "ensembles['LR']=algos[\"LR\"]\n",
    "scores[\"LR\"] = cross_val_score(algos[\"LR\"], xTr, yTr, cv=kfold, scoring=scoring)\n",
    "mean_scores[\"LR\"]=scores[\"LR\"].mean()\n",
    "print scores[\"LR\"]\n",
    "print mean_scores[\"LR\"]"
   ]
  },
  {
   "cell_type": "markdown",
   "metadata": {},
   "source": [
    "### Linear Discriminant Analysis with parameter tuning\n",
    "<h4>solver</h4>\n",
    "Solver to use, possible values:\n",
    "    ‘svd’: Singular value decomposition (default). Does not compute the covariance matrix, therefore this solver is recommended for data with a large number of features.\n",
    "    ‘lsqr’: Least squares solution, can be combined with shrinkage.\n",
    "    ‘eigen’: Eigenvalue decomposition, can be combined with shrinkage.\n",
    "<h4>n_components</h4>\n",
    "Number of components (< n_classes - 1) for dimensionality reduction.\n"
   ]
  },
  {
   "cell_type": "code",
   "execution_count": 29,
   "metadata": {
    "collapsed": true
   },
   "outputs": [],
   "source": [
    " parameters = {'solver' : ['svd','lsqr' ,'eigen'],\n",
    "        'n_components' : [2,3,4,5,6,7,8,9,10,11,12]}"
   ]
  },
  {
   "cell_type": "code",
   "execution_count": 30,
   "metadata": {
    "scrolled": true
   },
   "outputs": [
    {
     "name": "stdout",
     "output_type": "stream",
     "text": [
      "('Best Hyper Parameters:', {'n_components': 2, 'solver': 'svd'})\n",
      "[ 0.772  0.777  0.772  0.778  0.782  0.779  0.785  0.776  0.773  0.777]\n",
      "0.777142857143\n"
     ]
    }
   ],
   "source": [
    "model=LinearDiscriminantAnalysis()\n",
    "models[\"LDA\"] = GridSearchCV(model, param_grid=parameters)\n",
    "#Learning\n",
    "models[\"LDA\"].fit(xTr,yTr)\n",
    "print(\"Best Hyper Parameters:\",models[\"LDA\"].best_params_)\n",
    "algos[\"LDA\"] = LinearDiscriminantAnalysis(solver=models[\"LDA\"].best_params_[\"solver\"],\n",
    "                             n_components=models[\"LDA\"].best_params_[\"n_components\"])\n",
    "scores[\"LDA\"] = cross_val_score(algos[\"LDA\"], xTr, yTr, cv=kfold, scoring=scoring)\n",
    "ensembles['LDA']=algos[\"LDA\"]\n",
    "mean_scores[\"LDA\"]=scores[\"LDA\"].mean()\n",
    "print scores[\"LDA\"]\n",
    "print mean_scores[\"LDA\"]\n"
   ]
  },
  {
   "cell_type": "markdown",
   "metadata": {},
   "source": [
    "### KNeighborsClassifier with parameter tuning\n",
    "<h4>n_neighbors</h4>\n",
    "Number of neighbors to use by default for kneighbors queries.\n",
    "<h4>weights</h4>\n",
    "weight function used in prediction. Possible values:\n",
    "        ‘uniform’ : uniform weights. All points in each neighborhood are weighted equally.\n",
    "        ‘distance’ : weight points by the inverse of their distance. in this case, closer neighbors of a query point will have a greater influence than neighbors which are further away.\n",
    "        [callable] : a user-defined function which accepts an array of distances, and returns an array of the same shape containing the weights.\n",
    "\n",
    "\n",
    "\n"
   ]
  },
  {
   "cell_type": "code",
   "execution_count": 31,
   "metadata": {
    "collapsed": true
   },
   "outputs": [],
   "source": [
    "neighbors = [x for x in range(5,21,5)]\n",
    "parameters = {'n_neighbors': neighbors}"
   ]
  },
  {
   "cell_type": "code",
   "execution_count": 32,
   "metadata": {},
   "outputs": [
    {
     "name": "stdout",
     "output_type": "stream",
     "text": [
      "('Best Hyper Parameters:', {'n_neighbors': 5})\n",
      "[ 0.919  0.917  0.923  0.924  0.919  0.926  0.919  0.92   0.922  0.925]\n",
      "0.921517857143\n"
     ]
    }
   ],
   "source": [
    "model=KNeighborsClassifier()\n",
    "models[\"kNN\"] = GridSearchCV(model, param_grid=parameters)\n",
    "#Learning\n",
    "models[\"kNN\"].fit(xTr,yTr)\n",
    "print(\"Best Hyper Parameters:\",models[\"kNN\"].best_params_)\n",
    "algos[\"kNN\"] = KNeighborsClassifier(\n",
    "        n_neighbors=models[\"kNN\"].best_params_['n_neighbors'])\n",
    "ensembles['kNN']=algos[\"kNN\"]\n",
    "scores[\"kNN\"] = cross_val_score(algos[\"kNN\"], xTr, yTr, cv=kfold, scoring=scoring)\n",
    "mean_scores[\"kNN\"]=scores[\"kNN\"].mean()\n",
    "print scores[\"kNN\"]\n",
    "print mean_scores[\"kNN\"]"
   ]
  },
  {
   "cell_type": "markdown",
   "metadata": {},
   "source": [
    "Due to the fact that agglomerative cannot be grid searched,as it requires a specific implemented scoring function,I implementented and performed the algorithm on a smaller subset of the data."
   ]
  },
  {
   "cell_type": "markdown",
   "metadata": {},
   "source": [
    "### Agglomerative Hierarchical Clustering\n",
    "<h4>linkage</h4>\n",
    "Which linkage criterion to use. The linkage criterion determines which distance to use between sets of observation. The algorithm will merge the pairs of cluster that minimize this criterion.\n",
    "\n",
    "        ward minimizes the variance of the clusters being merged.\n",
    "        average uses the average of the distances of each observation of the two sets.\n",
    "        complete or maximum linkage uses the maximum distances between all observations of the two sets.\n",
    "<h4>n_clusters</h4>\n",
    "The number of clusters to find."
   ]
  },
  {
   "cell_type": "code",
   "execution_count": 33,
   "metadata": {
    "collapsed": true
   },
   "outputs": [],
   "source": [
    "def clustering_acc(clustering, labels):\n",
    "    \"\"\"Measure the overall accuracy of the given `clustering` given the `labels`\"\"\"\n",
    "    cluster=[]\n",
    "    acc_cluster=[]\n",
    "    for i in range(10):\n",
    "        cluster.append([])\n",
    "        acc_cluster.append([])\n",
    "    counter=0\n",
    "    for cl in clustering:\n",
    "        cluster[cl].append(int(labels[counter]))\n",
    "        counter+=1\n",
    "    counter=0\n",
    "    total_acc=0.0\n",
    "    for i in range(10):\n",
    "        temp=Counter(cluster[i])\n",
    "        total_acc+=float(max(temp.iteritems(), key=operator.itemgetter(1))[1])/float(len(cluster[i]))\n",
    "    return total_acc/10.0"
   ]
  },
  {
   "cell_type": "code",
   "execution_count": 34,
   "metadata": {},
   "outputs": [
    {
     "name": "stdout",
     "output_type": "stream",
     "text": [
      "Ward's method: 0.694894983269\n",
      "Complete link: 0.591899448565\n",
      "Average link:  0.690077788181\n"
     ]
    }
   ],
   "source": [
    "ward_cluster = AgglomerativeClustering(n_clusters =10,linkage =\"ward\")\n",
    "ward_cluster.fit(xTr[0:1000])\n",
    "ward_clustering= ward_cluster.fit_predict(xTr[0:1000])\n",
    "\n",
    "comp_cluster =AgglomerativeClustering(n_clusters =10,linkage =\"complete\")\n",
    "comp_cluster.fit(xTr[0:1000])\n",
    "comp_clustering= comp_cluster.fit_predict(xTr[0:1000])\n",
    "\n",
    "avg_cluster = AgglomerativeClustering(n_clusters =10,linkage =\"average\")\n",
    "avg_cluster.fit(xTr[0:1000])\n",
    "avg_clustering= avg_cluster.fit_predict(xTr[0:1000])\n",
    "\n",
    "\n",
    "\n",
    "\n",
    "acc_ward = clustering_acc(ward_clustering, yTr)\n",
    "acc_comp = clustering_acc(comp_clustering, yTr)\n",
    "acc_avg= clustering_acc(avg_clustering, yTr)\n",
    "    \n",
    "print 'Ward\\'s method:', acc_ward\n",
    "print 'Complete link:', acc_comp\n",
    "print 'Average link: ', acc_avg"
   ]
  },
  {
   "cell_type": "markdown",
   "metadata": {},
   "source": [
    "### Voting"
   ]
  },
  {
   "cell_type": "code",
   "execution_count": 35,
   "metadata": {},
   "outputs": [
    {
     "name": "stdout",
     "output_type": "stream",
     "text": [
      "{'kNN': KNeighborsClassifier(algorithm='auto', leaf_size=30, metric='minkowski',\n",
      "           metric_params=None, n_jobs=1, n_neighbors=5, p=2,\n",
      "           weights='uniform'), 'DT': DecisionTreeClassifier(class_weight=None, criterion='entropy', max_depth=14,\n",
      "            max_features=None, max_leaf_nodes=None,\n",
      "            min_impurity_decrease=0.0, min_impurity_split=None,\n",
      "            min_samples_leaf=1, min_samples_split=2,\n",
      "            min_weight_fraction_leaf=0.0, presort=False, random_state=None,\n",
      "            splitter='best'), 'LR': LogisticRegression(C=1.0, class_weight='balanced', dual=False,\n",
      "          fit_intercept=True, intercept_scaling=1, max_iter=100,\n",
      "          multi_class='ovr', n_jobs=1, penalty='l2', random_state=None,\n",
      "          solver='lbfgs', tol=0.0001, verbose=0, warm_start=False), 'LDA': LinearDiscriminantAnalysis(n_components=2, priors=None, shrinkage=None,\n",
      "              solver='svd', store_covariance=False, tol=0.0001)}\n",
      "[ 0.832  0.837  0.842  0.843  0.849  0.842  0.848  0.837  0.836  0.835]\n",
      "0.840071428571\n"
     ]
    }
   ],
   "source": [
    "votingList=[]\n",
    "print ensembles\n",
    "for key,value in ensembles.items():\n",
    "    votingList.append((key,value))\n",
    "algos[\"VOT\"] = VotingClassifier(votingList)\n",
    "scores['VOT'] = cross_val_score(algos[\"VOT\"], xTr, yTr, cv=kfold)\n",
    "mean_scores[\"VOT\"]=scores[\"VOT\"].mean()\n",
    "\n",
    "print scores[\"VOT\"]\n",
    "print mean_scores[\"VOT\"]\n"
   ]
  },
  {
   "cell_type": "markdown",
   "metadata": {},
   "source": [
    "### ADABoost\n",
    "Boosting is a machine learning ensemble meta-algorithm for primarily reducing bias, and also variance in supervised learning, and a family of machine learning algorithms which convert weak learners to strong ones \n",
    "\n",
    "<h4>n_estimators</h4>\n",
    "The maximum number of estimators at which boosting is terminated. In case of perfect fit, the learning procedure is stopped early."
   ]
  },
  {
   "cell_type": "code",
   "execution_count": 37,
   "metadata": {},
   "outputs": [
    {
     "name": "stdout",
     "output_type": "stream",
     "text": [
      "[ 0.595  0.585  0.585  0.562  0.599  0.561  0.566  0.563  0.578  0.587]\n",
      "0.578160714286\n"
     ]
    }
   ],
   "source": [
    "\n",
    "algos[\"ADB\"] = AdaBoostClassifier(n_estimators=256)\n",
    "scores[\"ADB\"] = cross_val_score(algos[\"ADB\"], xTr, yTr, cv=kfold, scoring='accuracy')\n",
    "mean_scores[\"ADB\"]=scores[\"ADB\"].mean()\n",
    "print scores[\"ADB\"]\n",
    "print mean_scores[\"ADB\"]"
   ]
  },
  {
   "cell_type": "markdown",
   "metadata": {},
   "source": [
    "### Random Forest\n",
    "Random forest is a bagging algorithm.Random forests train a large number of “strong” decision trees and combine their predictions through bagging.\n",
    "<h4>n_estimators</h4>\n",
    "The number of trees in the forest.\n",
    "<h4>max_depth</h4>\n",
    "The maximum depth of the tree. \n",
    "<h4>max_features</h4>\n",
    "The number of features to consider when looking for the best split."
   ]
  },
  {
   "cell_type": "code",
   "execution_count": 38,
   "metadata": {},
   "outputs": [
    {
     "name": "stdout",
     "output_type": "stream",
     "text": [
      "[ 0.873  0.881  0.877  0.881  0.882  0.885  0.881  0.877  0.873  0.885]\n",
      "0.879339285714\n"
     ]
    }
   ],
   "source": [
    "algos[\"RDT\"] = RandomForestClassifier(n_estimators=256,\n",
    "                                     max_depth=12,\n",
    "                                     max_features='log2')\n",
    "scores[\"RDT\"] = cross_val_score(algos[\"RDT\"], xTr, yTr, cv=kfold, scoring='accuracy')\n",
    "mean_scores[\"RDT\"]=scores[\"RDT\"].mean()\n",
    "print scores[\"RDT\"]\n",
    "print mean_scores[\"RDT\"]"
   ]
  },
  {
   "cell_type": "markdown",
   "metadata": {},
   "source": [
    "### Algorithm Comparison"
   ]
  },
  {
   "cell_type": "code",
   "execution_count": 39,
   "metadata": {},
   "outputs": [
    {
     "name": "stdout",
     "output_type": "stream",
     "text": [
      "Best algorithm with accuracy ('kNNS', 0.92151785714285739)\n",
      "[('ADB', 0.57816071428571425), ('LDA', 0.77714285714285714), ('LDAS', 0.77714285714285714), ('LRS', 0.77912500000000007), ('LR', 0.78003571428571417), ('NBS', 0.78789285714285717), ('DTS', 0.81051785714285707), ('DT', 0.8225892857142858), ('VOT', 0.84007142857142869), ('RDT', 0.87933928571428566), ('kNN', 0.92151785714285739), ('kNNS', 0.92151785714285739)]\n"
     ]
    }
   ],
   "source": [
    "sorted_acc = sorted(mean_scores.items(), key=operator.itemgetter(1))\n",
    "print \"Best algorithm with accuracy\",sorted_acc[len(sorted_acc)-1]\n",
    "print sorted_acc"
   ]
  },
  {
   "cell_type": "markdown",
   "metadata": {},
   "source": [
    "## Step 8: Finalise Model\n",
    "Predictions on validation set, create model from the entire (training) dataset."
   ]
  },
  {
   "cell_type": "code",
   "execution_count": 40,
   "metadata": {},
   "outputs": [
    {
     "name": "stdout",
     "output_type": "stream",
     "text": [
      "Best algorithm selected: kNNS  with accuracy: 0.900642857143\n"
     ]
    }
   ],
   "source": [
    "algos[sorted_acc[len(sorted_acc)-1][0]].fit(xTr,yTr)\n",
    "predictions=algos[sorted_acc[len(sorted_acc)-1][0]].predict(xTe)\n",
    "accuracy = cross_val_score(algos[sorted_acc[len(sorted_acc)-1][0]], xTe, yTe, cv=kfold, scoring='accuracy').mean()\n",
    "print \"Best algorithm selected:\",sorted_acc[len(sorted_acc)-1][0],' with accuracy:',accuracy"
   ]
  },
  {
   "cell_type": "markdown",
   "metadata": {
    "collapsed": true
   },
   "source": [
    "## Step 9: Evaluation"
   ]
  },
  {
   "cell_type": "markdown",
   "metadata": {},
   "source": [
    "Confusion matrix is metric of accuracy. The diagonal elements at the confusion matrix are the number of data that the best algorithm correctly predicted the target, while the rest are those that are not classified correctly. "
   ]
  },
  {
   "cell_type": "code",
   "execution_count": 41,
   "metadata": {},
   "outputs": [
    {
     "name": "stdout",
     "output_type": "stream",
     "text": [
      "\n",
      "confusion_matrix:\n",
      "[[1354    0    5    0    2   17   15    1    1    1]\n",
      " [   2 1571    9    4    0    1    1    3    0    2]\n",
      " [   9    5 1268    9   11    8   16   24   14    4]\n",
      " [   1    4   26 1301    1   26    0   19   33   10]\n",
      " [   0    4   19    3 1188   10   31    7   10   86]\n",
      " [   3    3    8   31    7 1173   22    9   13    8]\n",
      " [   9    4    7    1    2   12 1361    2    2    1]\n",
      " [   4    3   28    2    7    4    0 1384    4   25]\n",
      " [   5    9   31   76   13   46   11    9 1136   23]\n",
      " [   9    2    4   24   56   24   11   44   26 1166]]\n"
     ]
    }
   ],
   "source": [
    "print \"\\nconfusion_matrix:\\n\",(confusion_matrix(yTe, predictions))"
   ]
  },
  {
   "cell_type": "markdown",
   "metadata": {},
   "source": [
    "Clasification Report is also a metric for the classification model.\n",
    "    tp:number of true positives\n",
    "    fp:number of false positives\n",
    "    fn:number of false negatives\n",
    "    precision:tp / (tp + fp) and measures the ability of the algorithm not to classify positively a label that is negative\n",
    "    recall:ratio tp / (tp + fn) and measures the ability of the algorithm to find all the positive samples"
   ]
  },
  {
   "cell_type": "code",
   "execution_count": 42,
   "metadata": {},
   "outputs": [
    {
     "name": "stdout",
     "output_type": "stream",
     "text": [
      "\n",
      "classification_report:\n",
      "             precision    recall  f1-score   support\n",
      "\n",
      "        0.0       0.97      0.97      0.97      1396\n",
      "        1.0       0.98      0.99      0.98      1593\n",
      "        2.0       0.90      0.93      0.91      1368\n",
      "        3.0       0.90      0.92      0.91      1421\n",
      "        4.0       0.92      0.87      0.90      1358\n",
      "        5.0       0.89      0.92      0.90      1277\n",
      "        6.0       0.93      0.97      0.95      1401\n",
      "        7.0       0.92      0.95      0.93      1461\n",
      "        8.0       0.92      0.84      0.87      1359\n",
      "        9.0       0.88      0.85      0.87      1366\n",
      "\n",
      "avg / total       0.92      0.92      0.92     14000\n",
      "\n"
     ]
    }
   ],
   "source": [
    "print \"\\nclassification_report:\\n\", (classification_report(yTe, predictions))"
   ]
  },
  {
   "cell_type": "markdown",
   "metadata": {},
   "source": [
    "### Summary/Report\n",
    "        As a summary, I first begun by fetching the mnist data and creating the names of the features.The data had a shape of (70000,748),which means that the dataset contained 70.000 images along with  28 * 28 array representing the pixels of the image.Each pixel was a different feature ,named as pixelXXX where XXX indicated the actual position of the pixel.We also defined the problem,which is the classification of the 70.000 images that represent one number from 0-9 into the appropriate class.\n",
    "        At step 3,I began to explore our data. I printed the shape,and we performed various operations such as checking for null values(can have a significant effect on the conclusions that can be drawn from the data),finding the data type of the features(integers),the possible values that the target variable can take(0-9),dimensional reduction on the dataset to represent it in a 2d graph,description of  the dataset(returns 8 statistical properties for each attribute),the number of data that belong to the classes(highly imbalanced problems can lead to wrong models) among with visual representation(histogram and box plot) of the data distributions.As we can safely summarise from the above,is that the numerical values of the dataset do make sense because the refer to colour value for each pixel and that the data are equally distributed among the classes.\n",
    "        At step 4,I performed data wrangling.Data wrangling is used to convert the raw data into the format that is convenient for the consumption of data.Rescaled,standarise and normalise were the basic data wrangling techniques that were performed.\n",
    "        Feature selection was the next step.Feature selection is a very important process while preprocessing the data as its main role is to reduce the curse of dimensionality as much as possible.For feature selection I chose to remove the features that have zero correlation with the target variable(does not affect the predicted class) or those that their variance is low. Feature reduction is the process where  it uses an orthogonal transformation to convert a set of observations of possibly correlated variables into a set of values of linearly uncorrelated variables called principal components.I chose to perform pca analysis keeping 10 of the reduced features.\n",
    "        Next step was the algorithm selection.I chose to execute models without parameters(hyperparameter tuning will follow).Firstly,i should split the test and train set into 80% train-20.I chose to execute the following algorithms:\n",
    "        Logistic Regression\n",
    "        Linear Discriminant Analysis\n",
    "        k-Nearest Neighbors\n",
    "        Decision Trees\n",
    "        Naive Bayes\n",
    "        I compared and stored the models in a dictionary in order to compare all the algorithms.\n",
    "        Afterwards,I performed model training.I tried to improve the accuracy of the 5 algorithms selected above by performing hyperparameter tuning,eg trying to find the best values for the parameters to maximize the accuracy.I also decided to include the agglomerative model in a smaller subset of the data(10000-as the fit method seems to not work with the full dataset) and with my own accuracy function(get the maximum class appearance per cluster and assign this cluster to this class,rest of observations are incorrectly classified).In addition,the simple voting algorithm was selected. It is one of the simplest ways of combining the predictions from multiple machine learning algorithms.Also,adaboost,which is a boosting algorithm(general learning approach for constructing a strong learner, given a collection of (possibly infinite) weak learners) and Random Forest,which is a bagging algorithm(an attempt to reduce the chance overfitting complex models) are performed.All mean scores,accuracies,algorithms are stored in a dictionary where we will finally find which algorithm produced the best accuracy of all the algorithms.This algorithm will be run with the test subset of the data.\n",
    "        Now, I have to test the best algorithm with the test data.After the evaluation, we have to perform various metrics to find how good the algorithm was. I chose two metrics:\n",
    "        i)Confusion matrix\n",
    "        ii)Classification report\n",
    "        A confusion matrix, also known as an error matrix, is a specific table layout that allows visualization of the performance of an algorithm.Each row of the matrix represents the instances in a predicted class while each column represents the instances in an actual class (or vice versa).[2] The name stems from the fact that it makes it easy to see if the system is confusing two classes (i.e. commonly mislabelling one as another).It is a special kind of contingency table, with two dimensions (\"actual\" and \"predicted\"), and identical sets of \"classes\" in both dimensions (each combination of dimension and class is a variable in the contingency table).\n",
    "        The classification report consists the following:\n",
    "        a)The precision is the ratio tp / (tp + fp) where tp is the number of true positives and fp the number of false positives. The precision is intuitively the ability of the classifier not to label as positive a sample that is negative.\n",
    "        b)The recall is the ratio tp / (tp + fn) where tp is the number of true positives and fn the number of false negatives. The recall is intuitively the ability of the classifier to find all the positive samples.\n",
    "        c)The F-beta score can be interpreted as a weighted harmonic mean of the precision and recall.\n",
    "        "
   ]
  },
  {
   "cell_type": "code",
   "execution_count": null,
   "metadata": {
    "collapsed": true
   },
   "outputs": [],
   "source": []
  }
 ],
 "metadata": {
  "kernelspec": {
   "display_name": "Python 2",
   "language": "python",
   "name": "python2"
  },
  "language_info": {
   "codemirror_mode": {
    "name": "ipython",
    "version": 2
   },
   "file_extension": ".py",
   "mimetype": "text/x-python",
   "name": "python",
   "nbconvert_exporter": "python",
   "pygments_lexer": "ipython2",
   "version": "2.7.13"
  }
 },
 "nbformat": 4,
 "nbformat_minor": 2
}
